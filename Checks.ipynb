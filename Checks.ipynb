{
 "cells": [
  {
   "cell_type": "code",
   "execution_count": 2,
   "id": "539e411e",
   "metadata": {},
   "outputs": [],
   "source": [
    "from app.database import SessionLocal\n",
    "from app.models import User, Expense\n",
    "\n",
    "db = SessionLocal()\n",
    "\n"
   ]
  },
  {
   "cell_type": "code",
   "execution_count": null,
   "id": "d27ee960",
   "metadata": {},
   "outputs": [],
   "source": []
  },
  {
   "cell_type": "code",
   "execution_count": 3,
   "id": "d1a13e13",
   "metadata": {},
   "outputs": [
    {
     "data": {
      "text/plain": [
       "[<app.models.User at 0x21c40aa5550>,\n",
       " <app.models.User at 0x21c40a8d090>,\n",
       " <app.models.User at 0x21c40a8d1d0>,\n",
       " <app.models.User at 0x21c409f8fc0>]"
      ]
     },
     "execution_count": 3,
     "metadata": {},
     "output_type": "execute_result"
    }
   ],
   "source": [
    "users = db.query(User).all()\n",
    "users"
   ]
  },
  {
   "cell_type": "code",
   "execution_count": null,
   "id": "2d2499db",
   "metadata": {},
   "outputs": [],
   "source": []
  },
  {
   "cell_type": "code",
   "execution_count": 4,
   "id": "179630ac",
   "metadata": {},
   "outputs": [],
   "source": [
    "#list comp print([i.username for i in users if i.username.startswith(\"D\")])"
   ]
  },
  {
   "cell_type": "code",
   "execution_count": 5,
   "id": "21fb5507",
   "metadata": {},
   "outputs": [
    {
     "data": {
      "text/plain": [
       "[<app.models.User at 0x21c40aa5550>,\n",
       " <app.models.User at 0x21c40a8d090>,\n",
       " <app.models.User at 0x21c40a8d1d0>,\n",
       " <app.models.User at 0x21c409f8fc0>]"
      ]
     },
     "execution_count": 5,
     "metadata": {},
     "output_type": "execute_result"
    }
   ],
   "source": [
    "users = db.query(User).all()\n",
    "users"
   ]
  },
  {
   "cell_type": "code",
   "execution_count": 6,
   "id": "73753ae3",
   "metadata": {},
   "outputs": [
    {
     "data": {
      "text/plain": [
       "[<app.models.Expense at 0x21c40aa57f0>, <app.models.Expense at 0x21c40a8d810>]"
      ]
     },
     "execution_count": 6,
     "metadata": {},
     "output_type": "execute_result"
    }
   ],
   "source": [
    "# Example: get first user\n",
    "alice = db.query(User).first()\n",
    "\n",
    "# All expenses for Alice\n",
    "alice_expenses = db.query(Expense).filter(Expense.user_id == alice.id).all()\n",
    "alice_expenses"
   ]
  },
  {
   "cell_type": "code",
   "execution_count": 7,
   "id": "0f711f9d",
   "metadata": {},
   "outputs": [
    {
     "data": {
      "text/plain": [
       "[<app.models.Expense at 0x21c40aa57f0>]"
      ]
     },
     "execution_count": 7,
     "metadata": {},
     "output_type": "execute_result"
    }
   ],
   "source": [
    "food_expenses = db.query(Expense).filter(Expense.category == \"food\").all()\n",
    "food_expenses"
   ]
  },
  {
   "cell_type": "code",
   "execution_count": 9,
   "id": "c508a448",
   "metadata": {},
   "outputs": [],
   "source": [
    "db=SessionLocal()\n",
    "\n",
    "new_exp = Expense(amount=15.0, category=\"food\", user_id=1, payment_method=\"card\")\n",
    "db.add(new_exp)\n",
    "db.commit()"
   ]
  },
  {
   "cell_type": "code",
   "execution_count": 10,
   "id": "3c76d4cf",
   "metadata": {},
   "outputs": [
    {
     "name": "stdout",
     "output_type": "stream",
     "text": [
      "1 12345.00 food None\n",
      "2 45678.00 drink None\n",
      "3 15.00 food card\n"
     ]
    }
   ],
   "source": [
    "expenses = db.query(Expense).all()\n",
    "for e in expenses:\n",
    "    print(e.id, e.amount, e.category, e.payment_method)"
   ]
  },
  {
   "cell_type": "code",
   "execution_count": null,
   "id": "c869937b",
   "metadata": {},
   "outputs": [
    {
     "name": "stdout",
     "output_type": "stream",
     "text": [
      "id (INTEGER)\n",
      "amount (NUMERIC(10, 2))\n",
      "currency (VARCHAR(3))\n",
      "category (VARCHAR(50))\n",
      "description (VARCHAR(255))\n",
      "occurred_at (DATETIME)\n",
      "created_at (DATETIME)\n",
      "user_id (INTEGER)\n",
      "payment_method (VARCHAR(50))\n"
     ]
    }
   ],
   "source": [
    "from app.database import engine, SessionLocal\n",
    "from sqlalchemy import inspect\n",
    "from app.models import Expense, User\n",
    "\n",
    "inspector = inspect(engine)\n",
    "\n",
    "for column in inspector.get_columns(\"expenses\"):\n",
    "    print(f\"{column['name']} ({column['type']})\")"
   ]
  },
  {
   "cell_type": "code",
   "execution_count": 28,
   "id": "0087324c",
   "metadata": {},
   "outputs": [
    {
     "name": "stdout",
     "output_type": "stream",
     "text": [
      "1 12345.00 food 1 None\n",
      "2 45678.00 drink 1 None\n",
      "3 15.00 food 1 card\n",
      "1 Dhruv\n",
      "2 Adamn\n",
      "3 Tony\n",
      "4 Sarah\n"
     ]
    }
   ],
   "source": [
    "from app.database import SessionLocal\n",
    "from app.models import User, Expense\n",
    "\n",
    "expenses = db.query(Expense) #create a db session and query the relevant model \n",
    "for e in expenses:\n",
    "    print(e.id, e.amount, e.category, e.user_id, e.payment_method)\n",
    "\n",
    "\n",
    "    db = SessionLocal()\n",
    "users = db.query(User).all()\n",
    "for u in users:\n",
    "    print(u.id, u.username)"
   ]
  }
 ],
 "metadata": {
  "kernelspec": {
   "display_name": ".venv",
   "language": "python",
   "name": "python3"
  },
  "language_info": {
   "codemirror_mode": {
    "name": "ipython",
    "version": 3
   },
   "file_extension": ".py",
   "mimetype": "text/x-python",
   "name": "python",
   "nbconvert_exporter": "python",
   "pygments_lexer": "ipython3",
   "version": "3.13.7"
  }
 },
 "nbformat": 4,
 "nbformat_minor": 5
}
